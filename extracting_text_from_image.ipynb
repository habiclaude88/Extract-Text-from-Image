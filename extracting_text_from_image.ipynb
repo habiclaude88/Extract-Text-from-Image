{
  "nbformat": 4,
  "nbformat_minor": 0,
  "metadata": {
    "colab": {
      "provenance": [],
      "include_colab_link": true
    },
    "kernelspec": {
      "name": "python3",
      "display_name": "Python 3"
    },
    "language_info": {
      "name": "python"
    }
  },
  "cells": [
    {
      "cell_type": "markdown",
      "metadata": {
        "id": "view-in-github",
        "colab_type": "text"
      },
      "source": [
        "<a href=\"https://colab.research.google.com/github/habiclaude88/Ridge_Regression_Model/blob/main/extracting_text_from_image.ipynb\" target=\"_parent\"><img src=\"https://colab.research.google.com/assets/colab-badge.svg\" alt=\"Open In Colab\"/></a>"
      ]
    },
    {
      "cell_type": "code",
      "source": [
        "# from google.colab import drive\n",
        "# drive.mount('/content/drive')"
      ],
      "metadata": {
        "id": "OhLtm2Sd1HEO"
      },
      "execution_count": 1,
      "outputs": []
    },
    {
      "cell_type": "code",
      "execution_count": 2,
      "metadata": {
        "colab": {
          "base_uri": "https://localhost:8080/"
        },
        "id": "x6MLgdy-0671",
        "outputId": "862d7bdd-723a-48d5-85d1-3997c59af117"
      },
      "outputs": [
        {
          "output_type": "stream",
          "name": "stdout",
          "text": [
            "Collecting pytesseract\n",
            "  Downloading pytesseract-0.3.10-py3-none-any.whl (14 kB)\n",
            "Requirement already satisfied: packaging>=21.3 in /usr/local/lib/python3.10/dist-packages (from pytesseract) (23.1)\n",
            "Requirement already satisfied: Pillow>=8.0.0 in /usr/local/lib/python3.10/dist-packages (from pytesseract) (9.4.0)\n",
            "Installing collected packages: pytesseract\n",
            "Successfully installed pytesseract-0.3.10\n",
            "Reading package lists... Done\n",
            "Building dependency tree... Done\n",
            "Reading state information... Done\n",
            "The following additional packages will be installed:\n",
            "  tesseract-ocr-eng tesseract-ocr-osd\n",
            "The following NEW packages will be installed:\n",
            "  tesseract-ocr tesseract-ocr-eng tesseract-ocr-osd\n",
            "0 upgraded, 3 newly installed, 0 to remove and 18 not upgraded.\n",
            "Need to get 4,816 kB of archives.\n",
            "After this operation, 15.6 MB of additional disk space will be used.\n",
            "Get:1 http://archive.ubuntu.com/ubuntu jammy/universe amd64 tesseract-ocr-eng all 1:4.00~git30-7274cfa-1.1 [1,591 kB]\n",
            "Get:2 http://archive.ubuntu.com/ubuntu jammy/universe amd64 tesseract-ocr-osd all 1:4.00~git30-7274cfa-1.1 [2,990 kB]\n",
            "Get:3 http://archive.ubuntu.com/ubuntu jammy/universe amd64 tesseract-ocr amd64 4.1.1-2.1build1 [236 kB]\n",
            "Fetched 4,816 kB in 0s (18.5 MB/s)\n",
            "Selecting previously unselected package tesseract-ocr-eng.\n",
            "(Reading database ... 120895 files and directories currently installed.)\n",
            "Preparing to unpack .../tesseract-ocr-eng_1%3a4.00~git30-7274cfa-1.1_all.deb ...\n",
            "Unpacking tesseract-ocr-eng (1:4.00~git30-7274cfa-1.1) ...\n",
            "Selecting previously unselected package tesseract-ocr-osd.\n",
            "Preparing to unpack .../tesseract-ocr-osd_1%3a4.00~git30-7274cfa-1.1_all.deb ...\n",
            "Unpacking tesseract-ocr-osd (1:4.00~git30-7274cfa-1.1) ...\n",
            "Selecting previously unselected package tesseract-ocr.\n",
            "Preparing to unpack .../tesseract-ocr_4.1.1-2.1build1_amd64.deb ...\n",
            "Unpacking tesseract-ocr (4.1.1-2.1build1) ...\n",
            "Setting up tesseract-ocr-eng (1:4.00~git30-7274cfa-1.1) ...\n",
            "Setting up tesseract-ocr-osd (1:4.00~git30-7274cfa-1.1) ...\n",
            "Setting up tesseract-ocr (4.1.1-2.1build1) ...\n",
            "Processing triggers for man-db (2.10.2-1) ...\n"
          ]
        }
      ],
      "source": [
        "!pip install pytesseract\n",
        "!apt-get install tesseract-ocr"
      ]
    },
    {
      "cell_type": "code",
      "source": [
        "import pytesseract\n",
        "from PIL import Image\n",
        "import matplotlib.pyplot as plt\n",
        "import io\n",
        "\n",
        "# Function to extract text from image\n",
        "def extract_text_from_image(image_path):\n",
        "    image = Image.open(\"/content/UBUDEHE Category.jpg\")\n",
        "    text = pytesseract.image_to_string(image)\n",
        "    return text\n",
        "\n",
        "# Example usage\n",
        "image_path = \"/exam8.PNG\"\n",
        "text = extract_text_from_image(image_path)\n",
        "print(text)"
      ],
      "metadata": {
        "colab": {
          "base_uri": "https://localhost:8080/"
        },
        "id": "p2Fa-Gdz1B3y",
        "outputId": "4bb707a6-abf4-435c-8ad6-9f839de25b62"
      },
      "execution_count": 6,
      "outputs": [
        {
          "output_type": "stream",
          "name": "stdout",
          "text": [
            " \n",
            "\n",
            "ANNEX 1: Ubudehe Categories\n",
            "\n",
            "es\n",
            "1\n",
            "\n",
            "fener\n",
            "2) Without a house\n",
            "\n",
            " \n",
            "\n",
            "b) Without ability to rent a house\n",
            "0) Often struggles to get food\n",
            "\n",
            "4) Struggles to get basic items\n",
            "\n",
            "2) Owns a house\n",
            "\n",
            "b) Able to rent a house\n",
            "\n",
            ") Often gets food\n",
            "\n",
            "9) Often works for others (wages)\n",
            "\n",
            "<d) With an employee in non-permanent job\n",
            "2) With an employee in Public/Private Sector\n",
            "b) With a member self employed\n",
            "\n",
            "‘©With business activities\n",
            "\n",
            ") Farmers with surplus for market\n",
            "\n",
            ") With a member who is a small trader\n",
            "\n",
            "2) With a big trader (whole sales, may be producing\n",
            "locally, in import and export trade)\n",
            "\n",
            "b) With a member who owns a company providing\n",
            "specialized services (transport, etc.)\n",
            "\n",
            "‘9.With a member who is employed in Public/Private\n",
            "sector at high level\n",
            "d) With a member who has (an) industryties)\n",
            "\n",
            ") With a member who own rental house(s) in bi\n",
            "ties or other big businesses like trucks, petrol\n",
            "Stations. etc.\n",
            "\n",
            "Pies\n",
            "\n",
            "Very often struggles to get food: Able to eat at most once\n",
            "aday\n",
            "\n",
            "Often gets food: Able to eat at least twice a day\n",
            "\n",
            "May be having varying levels of welfare (eg, not all\n",
            "Public servants have the same income, they are further\n",
            "separated by their businesses and their level of asset\n",
            "accumulation),\n",
            "\n",
            "‘Some farmers, traders and employees in the Public and\n",
            "Private sector might find way into this category, as a\n",
            "result of their investment levels/asset acquisition levels,\n",
            "\f\n"
          ]
        }
      ]
    },
    {
      "cell_type": "code",
      "source": [],
      "metadata": {
        "id": "N6bflkrFtmn9"
      },
      "execution_count": null,
      "outputs": []
    }
  ]
}